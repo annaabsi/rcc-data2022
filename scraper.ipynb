{
 "cells": [
  {
   "cell_type": "code",
   "execution_count": 87,
   "metadata": {},
   "outputs": [],
   "source": [
    "import pandas as pd\n",
    "df = pd.read_json('response_rcc.json')\n",
    "#df = df[['cell']].to_list()\n",
    "df = pd.DataFrame(df['cell'].to_list(), columns=['CÓDIGO ÚNICO', 'CÓDIGO SNIP', 'PROYECTO', 'COSTO DEL PROYECTO', 'PIM', 'DEVENGADO', 'AVANCE (%)', 'DEVENGADO ACUMULADO AL 2022'])\n",
    "df\n",
    "\n",
    "df.to_csv(\"rcc_2022.csv\")"
   ]
  }
 ],
 "metadata": {
  "kernelspec": {
   "display_name": "Python 3",
   "language": "python",
   "name": "python3"
  },
  "language_info": {
   "codemirror_mode": {
    "name": "ipython",
    "version": 3
   },
   "file_extension": ".py",
   "mimetype": "text/x-python",
   "name": "python",
   "nbconvert_exporter": "python",
   "pygments_lexer": "ipython3",
   "version": "3.10.9"
  },
  "orig_nbformat": 4
 },
 "nbformat": 4,
 "nbformat_minor": 2
}
